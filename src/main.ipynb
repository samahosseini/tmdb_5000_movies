{
 "cells": [
  {
   "cell_type": "code",
   "outputs": [],
   "source": [
    "import pandas as pd\n",
    "import json\n",
    "import matplotlib.pyplot as plt\n",
    "import numpy as np\n",
    "import seaborn as sns"
   ],
   "metadata": {
    "collapsed": false,
    "ExecuteTime": {
     "end_time": "2024-03-17T00:32:12.864880500Z",
     "start_time": "2024-03-17T00:32:12.830455900Z"
    }
   },
   "id": "a661eb781c78d1f5",
   "execution_count": 49
  },
  {
   "cell_type": "markdown",
   "source": [
    "# load dataset"
   ],
   "metadata": {
    "collapsed": false
   },
   "id": "41dc768e59ed15a2"
  },
  {
   "cell_type": "code",
   "outputs": [],
   "source": [
    "movie_df = pd.read_csv('../data/tmdb_5000_movies.csv')\n",
    "credits_df = pd.read_csv('../data/tmdb_5000_credits.csv')"
   ],
   "metadata": {
    "collapsed": false,
    "ExecuteTime": {
     "end_time": "2024-03-17T01:59:44.177329400Z",
     "start_time": "2024-03-17T01:59:43.651963Z"
    }
   },
   "id": "f87644c3af85c61c",
   "execution_count": 144
  },
  {
   "cell_type": "code",
   "outputs": [],
   "source": [
    "df = pd.merge(movie_df, credits_df, left_on = 'id', right_on = 'movie_id')"
   ],
   "metadata": {
    "collapsed": false,
    "ExecuteTime": {
     "end_time": "2024-03-17T01:59:45.784075800Z",
     "start_time": "2024-03-17T01:59:45.759986700Z"
    }
   },
   "id": "4daf6cdccca8988e",
   "execution_count": 145
  },
  {
   "cell_type": "markdown",
   "source": [
    "# data exploration"
   ],
   "metadata": {
    "collapsed": false
   },
   "id": "97982c8da0da9924"
  },
  {
   "cell_type": "code",
   "outputs": [
    {
     "data": {
      "text/plain": "budget                     0\ngenres                     0\nhomepage                3091\nid                         0\nkeywords                   0\noriginal_language          0\noriginal_title             0\noverview                   3\npopularity                 0\nproduction_companies       0\nproduction_countries       0\nrelease_date               1\nrevenue                    0\nruntime                    2\nspoken_languages           0\nstatus                     0\ntagline                  844\ntitle_x                    0\nvote_average               0\nvote_count                 0\nmovie_id                   0\ntitle_y                    0\ncast                       0\ncrew                       0\ndtype: int64"
     },
     "execution_count": 146,
     "metadata": {},
     "output_type": "execute_result"
    }
   ],
   "source": [
    "# Shape of the dataset\n",
    "shape = df.shape\n",
    "\n",
    "# Data types of the columns\n",
    "data_types = df.dtypes\n",
    "\n",
    "# Check for missing values\n",
    "missing_values = df.isnull().sum()\n",
    "\n",
    "# Descriptive statistics of the numerical columns\n",
    "descriptive_stats = df.describe()\n",
    "\n",
    "# Count of unique values for each column\n",
    "# unique_counts = df.nunique()\n",
    "\n",
    "missing_values"
   ],
   "metadata": {
    "collapsed": false,
    "ExecuteTime": {
     "end_time": "2024-03-17T01:59:48.098450200Z",
     "start_time": "2024-03-17T01:59:48.058798800Z"
    }
   },
   "id": "7d1b14ac654e5850",
   "execution_count": 146
  },
  {
   "cell_type": "code",
   "outputs": [
    {
     "data": {
      "text/plain": "((4803, 24),\n budget                    int64\n genres                   object\n homepage                 object\n id                        int64\n keywords                 object\n original_language        object\n original_title           object\n overview                 object\n popularity              float64\n production_companies     object\n production_countries     object\n release_date             object\n revenue                   int64\n runtime                 float64\n spoken_languages         object\n status                   object\n tagline                  object\n title_x                  object\n vote_average            float64\n vote_count                int64\n movie_id                  int64\n title_y                  object\n cast                     object\n crew                     object\n dtype: object,\n budget                     0\n genres                     0\n homepage                3091\n id                         0\n keywords                   0\n original_language          0\n original_title             0\n overview                   3\n popularity                 0\n production_companies       0\n production_countries       0\n release_date               1\n revenue                    0\n runtime                    2\n spoken_languages           0\n status                     0\n tagline                  844\n title_x                    0\n vote_average               0\n vote_count                 0\n movie_id                   0\n title_y                    0\n cast                       0\n crew                       0\n dtype: int64,\n              budget             id   popularity       revenue      runtime  \\\n count  4.803000e+03    4803.000000  4803.000000  4.803000e+03  4801.000000   \n mean   2.904504e+07   57165.484281    21.492301  8.226064e+07   106.875859   \n std    4.072239e+07   88694.614033    31.816650  1.628571e+08    22.611935   \n min    0.000000e+00       5.000000     0.000000  0.000000e+00     0.000000   \n 25%    7.900000e+05    9014.500000     4.668070  0.000000e+00    94.000000   \n 50%    1.500000e+07   14629.000000    12.921594  1.917000e+07   103.000000   \n 75%    4.000000e+07   58610.500000    28.313505  9.291719e+07   118.000000   \n max    3.800000e+08  459488.000000   875.581305  2.787965e+09   338.000000   \n \n        vote_average    vote_count       movie_id  \n count   4803.000000   4803.000000    4803.000000  \n mean       6.092172    690.217989   57165.484281  \n std        1.194612   1234.585891   88694.614033  \n min        0.000000      0.000000       5.000000  \n 25%        5.600000     54.000000    9014.500000  \n 50%        6.200000    235.000000   14629.000000  \n 75%        6.800000    737.000000   58610.500000  \n max       10.000000  13752.000000  459488.000000  )"
     },
     "execution_count": 147,
     "metadata": {},
     "output_type": "execute_result"
    }
   ],
   "source": [
    "shape, data_types, missing_values, descriptive_stats\n",
    "# unique_counts"
   ],
   "metadata": {
    "collapsed": false,
    "ExecuteTime": {
     "end_time": "2024-03-17T01:59:51.529181200Z",
     "start_time": "2024-03-17T01:59:51.512814100Z"
    }
   },
   "id": "3cba1685a3d0d19f",
   "execution_count": 147
  },
  {
   "cell_type": "code",
   "outputs": [
    {
     "data": {
      "text/plain": "Index(['budget', 'genres', 'homepage', 'id', 'keywords', 'original_language',\n       'original_title', 'overview', 'popularity', 'production_companies',\n       'production_countries', 'release_date', 'revenue', 'runtime',\n       'spoken_languages', 'status', 'tagline', 'title_x', 'vote_average',\n       'vote_count', 'movie_id', 'title_y', 'cast', 'crew'],\n      dtype='object')"
     },
     "execution_count": 149,
     "metadata": {},
     "output_type": "execute_result"
    }
   ],
   "source": [
    "df.columns"
   ],
   "metadata": {
    "collapsed": false,
    "ExecuteTime": {
     "end_time": "2024-03-17T02:00:20.328315500Z",
     "start_time": "2024-03-17T02:00:20.307318900Z"
    }
   },
   "id": "3975b1136ba0ab4f",
   "execution_count": 149
  },
  {
   "cell_type": "markdown",
   "source": [
    "# Data Cleaning"
   ],
   "metadata": {
    "collapsed": false
   },
   "id": "d610966301fdae87"
  },
  {
   "cell_type": "code",
   "outputs": [],
   "source": [
    "df.drop(columns=['original_title', 'tagline', 'spoken_languages', 'status', 'movie_id' ], inplace=True)\n",
    "df.drop_duplicates(inplace=True)\n"
   ],
   "metadata": {
    "collapsed": false,
    "ExecuteTime": {
     "end_time": "2024-03-17T02:00:28.017801500Z",
     "start_time": "2024-03-17T02:00:27.909114900Z"
    }
   },
   "id": "c133d3e2f6bc5f1a",
   "execution_count": 150
  },
  {
   "cell_type": "markdown",
   "source": [
    "Dealing with JSON Fields"
   ],
   "metadata": {
    "collapsed": false
   },
   "id": "c5d9a05df0d8286b"
  },
  {
   "cell_type": "code",
   "outputs": [],
   "source": [
    "# Parsing the genres column from JSON format\n",
    "df['genres'] = df['genres'].apply(lambda x: [genre['name'] for genre in json.loads(x)])\n",
    "\n",
    "df['keywords'] = df['keywords'].apply(lambda x: [key['name'] for key in json.loads(x)])\n",
    "\n",
    "df['production_companies'] = df['production_companies'].apply(lambda x: [company['name'] for company in json.loads(x)])\n",
    "\n",
    "df['production_countries'] = df['production_countries'].apply(lambda x: [country['name'] for country in json.loads(x)])"
   ],
   "metadata": {
    "collapsed": false
   },
   "id": "d671eda16196af43",
   "execution_count": null
  },
  {
   "cell_type": "markdown",
   "source": [
    "~ Standardize Text Data and datetime and Normalization and Scaling"
   ],
   "metadata": {
    "collapsed": false
   },
   "id": "99ba771a027163d9"
  },
  {
   "cell_type": "code",
   "outputs": [],
   "source": [
    "df['title_x'] = df['title_x'].str.lower()  # Convert titles to lowercase\n",
    "\n",
    "df['popularity'] = (df['popularity'] - df['popularity'].min()) / (df['popularity'].max() - df['popularity'].min())\n",
    "\n",
    "df['release_date'] = pd.to_datetime(df['release_date'])"
   ],
   "metadata": {
    "collapsed": false,
    "ExecuteTime": {
     "end_time": "2024-03-17T02:02:40.301544700Z",
     "start_time": "2024-03-17T02:02:40.274068700Z"
    }
   },
   "id": "11598041bc8ab603",
   "execution_count": 155
  },
  {
   "cell_type": "markdown",
   "source": [
    "handling missing values"
   ],
   "metadata": {
    "collapsed": false
   },
   "id": "ac01cd58c66d21c3"
  },
  {
   "cell_type": "code",
   "outputs": [],
   "source": [
    "from sklearn.impute import SimpleImputer\n",
    "\n",
    "# Impute missing values with median\n",
    "imputer_med = SimpleImputer(strategy='median')\n",
    "df['release_date'] = imputer_med.fit_transform(df[['release_date']])\n",
    "df['runtime'] = imputer_med.fit_transform(df[['runtime']])"
   ],
   "metadata": {
    "collapsed": false,
    "ExecuteTime": {
     "end_time": "2024-03-17T02:02:44.788497800Z",
     "start_time": "2024-03-17T02:02:44.766807800Z"
    }
   },
   "id": "167817fb707dd155",
   "execution_count": 156
  },
  {
   "cell_type": "markdown",
   "source": [
    "replacing overviews where is none"
   ],
   "metadata": {
    "collapsed": false
   },
   "id": "8aada0e9a2ac91d6"
  },
  {
   "cell_type": "code",
   "outputs": [],
   "source": [
    "df.loc[df['id'] == 370980, 'overview'] = 'Following the rise of father Jorge Mario Bergoglio from his early life as a teacher in a Jesuit High School in Argentina, to archbishop and cardinal of Buenos Aires, until he was elected Pope of the Roman Catholic Church.'\n",
    "\n",
    "df.loc[df['id'] == 459488, 'overview'] = 'An exploration of how singer and actor Frank Sinatra became one of the biggest stars of the 20th century while remaining, in his heart, a normal person.'\n",
    "\n",
    "df = df[df['id'] != 292539]"
   ],
   "metadata": {
    "collapsed": false,
    "ExecuteTime": {
     "end_time": "2024-03-17T02:02:48.381359300Z",
     "start_time": "2024-03-17T02:02:48.353822500Z"
    }
   },
   "id": "73246a43e95fc4e9",
   "execution_count": 157
  },
  {
   "cell_type": "code",
   "outputs": [],
   "source": [
    "# Define a function to check if the value contains 'http'\n",
    "def has_http(value):\n",
    "    if isinstance(value, str) and 'http' in value:\n",
    "        return 1\n",
    "    else:\n",
    "        return 0\n",
    "\n",
    "# Apply the function to the 'homepage' column and create a new column 'has_homepage'\n",
    "df.loc[:, 'has_homepage'] = df['homepage'].apply(lambda x: has_http(x))"
   ],
   "metadata": {
    "collapsed": false,
    "ExecuteTime": {
     "end_time": "2024-03-17T02:09:50.527143Z",
     "start_time": "2024-03-17T02:09:50.516432600Z"
    }
   },
   "id": "b39c8cacef4967b2",
   "execution_count": 159
  },
  {
   "cell_type": "code",
   "outputs": [],
   "source": [],
   "metadata": {
    "collapsed": false,
    "ExecuteTime": {
     "end_time": "2024-03-17T02:18:14.733150400Z",
     "start_time": "2024-03-17T02:18:14.709414300Z"
    }
   },
   "id": "71753b5de0d80daa",
   "execution_count": 165
  },
  {
   "cell_type": "code",
   "outputs": [],
   "source": [],
   "metadata": {
    "collapsed": false
   },
   "id": "9363cf0b49aaf85c"
  }
 ],
 "metadata": {
  "kernelspec": {
   "display_name": "Python 3",
   "language": "python",
   "name": "python3"
  },
  "language_info": {
   "codemirror_mode": {
    "name": "ipython",
    "version": 2
   },
   "file_extension": ".py",
   "mimetype": "text/x-python",
   "name": "python",
   "nbconvert_exporter": "python",
   "pygments_lexer": "ipython2",
   "version": "2.7.6"
  }
 },
 "nbformat": 4,
 "nbformat_minor": 5
}
